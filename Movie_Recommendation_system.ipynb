{
  "metadata": {
    "kernelspec": {
      "language": "python",
      "display_name": "Python 3",
      "name": "python3"
    },
    "language_info": {
      "pygments_lexer": "ipython3",
      "nbconvert_exporter": "python",
      "version": "3.6.4",
      "file_extension": ".py",
      "codemirror_mode": {
        "name": "ipython",
        "version": 3
      },
      "name": "python",
      "mimetype": "text/x-python"
    },
    "colab": {
      "name": "YBI Foundation Internship Project",
      "provenance": []
    }
  },
  "nbformat_minor": 0,
  "nbformat": 4,
  "cells": [
    {
      "cell_type": "markdown",
      "source": [
        "# **Movie Recommendation System**"
      ],
      "metadata": {
        "id": "-SLdUUfW_iqK"
      }
    },
    {
      "cell_type": "markdown",
      "source": [
        "**Recommender System** is a system that seeks to predict or filter preferences according to the user's choices. Recommender systems are utilized in a variety of areas including movies, music, news, books, research articles, search queries, social tags, and products in general. Recommender systems produce a list of recommendations in any of the two ways -\n",
        "\n",
        "**Collaborative filtering:** Collaborative filtering approaches build a model from the user's past behavior (i.e. items purchased or searched by the user) as well as similar decisions made by other users. This model is then used to predict items(or ratings for items) that users may have an interest in.\n",
        "\n",
        "**Content-based filtering:** Content-base filtering approaches uses a series of discrete characteristics of an item in order to recommend additional items with similar properties. Content-based filtering methods are totally based on a description of the item and a profile of the user's preferences. It recommends items based on the user's past preferences. Let's develop a basic recommendation system using Python and Pandas.\n",
        "\n",
        "Let's develop a basic recommendation system by suggesting items that are most similar to a particular item, in this case, movies. It just tells what movies/items are most similar to the user's movie choice.************"
      ],
      "metadata": {
        "id": "IJzqHa79_iqQ"
      }
    },
    {
      "cell_type": "markdown",
      "source": [
        "# **Import Library**"
      ],
      "metadata": {
        "id": "sFqyWCaG_iqT"
      }
    },
    {
      "cell_type": "code",
      "source": [
        "import pandas as pd"
      ],
      "metadata": {
        "execution": {
          "iopub.status.busy": "2023-05-17T19:24:36.084784Z",
          "iopub.execute_input": "2023-05-17T19:24:36.085212Z",
          "iopub.status.idle": "2023-05-17T19:24:36.091535Z",
          "shell.execute_reply.started": "2023-05-17T19:24:36.085165Z",
          "shell.execute_reply": "2023-05-17T19:24:36.090333Z"
        },
        "trusted": true,
        "id": "EzHdTh6w_iqU"
      },
      "execution_count": null,
      "outputs": []
    },
    {
      "cell_type": "code",
      "source": [
        "import numpy as np"
      ],
      "metadata": {
        "execution": {
          "iopub.status.busy": "2023-05-17T19:24:36.094216Z",
          "iopub.execute_input": "2023-05-17T19:24:36.094713Z",
          "iopub.status.idle": "2023-05-17T19:24:36.112196Z",
          "shell.execute_reply.started": "2023-05-17T19:24:36.094667Z",
          "shell.execute_reply": "2023-05-17T19:24:36.111024Z"
        },
        "trusted": true,
        "id": "BvRV_j7j_iqX"
      },
      "execution_count": null,
      "outputs": []
    },
    {
      "cell_type": "markdown",
      "source": [
        "# **Import Dataset**"
      ],
      "metadata": {
        "id": "p32OPhvu_iqZ"
      }
    },
    {
      "cell_type": "code",
      "source": [
        "df = pd.read_csv(r'https://raw.githubusercontent.com/YBI-Foundation/Dataset/main/Movies%20Recommendation.csv')"
      ],
      "metadata": {
        "execution": {
          "iopub.status.busy": "2023-05-17T19:24:36.113578Z",
          "iopub.execute_input": "2023-05-17T19:24:36.114517Z",
          "iopub.status.idle": "2023-05-17T19:24:36.741845Z",
          "shell.execute_reply.started": "2023-05-17T19:24:36.114477Z",
          "shell.execute_reply": "2023-05-17T19:24:36.740496Z"
        },
        "trusted": true,
        "id": "go--4HmM_iqZ"
      },
      "execution_count": null,
      "outputs": []
    },
    {
      "cell_type": "code",
      "source": [
        "df.head()"
      ],
      "metadata": {
        "execution": {
          "iopub.status.busy": "2023-05-17T19:24:36.743494Z",
          "iopub.execute_input": "2023-05-17T19:24:36.74393Z",
          "iopub.status.idle": "2023-05-17T19:24:36.776485Z",
          "shell.execute_reply.started": "2023-05-17T19:24:36.743879Z",
          "shell.execute_reply": "2023-05-17T19:24:36.775085Z"
        },
        "trusted": true,
        "id": "drvziVzo_iqa"
      },
      "execution_count": null,
      "outputs": []
    },
    {
      "cell_type": "code",
      "source": [
        "df.info()"
      ],
      "metadata": {
        "execution": {
          "iopub.status.busy": "2023-05-17T19:24:36.779355Z",
          "iopub.execute_input": "2023-05-17T19:24:36.779739Z",
          "iopub.status.idle": "2023-05-17T19:24:36.821637Z",
          "shell.execute_reply.started": "2023-05-17T19:24:36.779704Z",
          "shell.execute_reply": "2023-05-17T19:24:36.819649Z"
        },
        "trusted": true,
        "id": "scFuczRG_iqb"
      },
      "execution_count": null,
      "outputs": []
    },
    {
      "cell_type": "code",
      "source": [
        "df.shape"
      ],
      "metadata": {
        "execution": {
          "iopub.status.busy": "2023-05-17T19:24:36.824257Z",
          "iopub.execute_input": "2023-05-17T19:24:36.82637Z",
          "iopub.status.idle": "2023-05-17T19:24:36.833676Z",
          "shell.execute_reply.started": "2023-05-17T19:24:36.826318Z",
          "shell.execute_reply": "2023-05-17T19:24:36.832486Z"
        },
        "trusted": true,
        "id": "rN2ZyVne_iqb"
      },
      "execution_count": null,
      "outputs": []
    },
    {
      "cell_type": "code",
      "source": [
        "df.columns"
      ],
      "metadata": {
        "execution": {
          "iopub.status.busy": "2023-05-17T19:24:36.835185Z",
          "iopub.execute_input": "2023-05-17T19:24:36.835537Z",
          "iopub.status.idle": "2023-05-17T19:24:36.887997Z",
          "shell.execute_reply.started": "2023-05-17T19:24:36.835505Z",
          "shell.execute_reply": "2023-05-17T19:24:36.886785Z"
        },
        "trusted": true,
        "id": "YmXf9VCV_iqc"
      },
      "execution_count": null,
      "outputs": []
    },
    {
      "cell_type": "markdown",
      "source": [
        "# **Get Feature Selection**"
      ],
      "metadata": {
        "id": "Op2lQC4O_iqc"
      }
    },
    {
      "cell_type": "code",
      "source": [
        "df_features = df[['Movie_Genre','Movie_Keywords','Movie_Tagline','Movie_Cast','Movie_Director']].fillna('')"
      ],
      "metadata": {
        "execution": {
          "iopub.status.busy": "2023-05-17T19:24:36.889832Z",
          "iopub.execute_input": "2023-05-17T19:24:36.890208Z",
          "iopub.status.idle": "2023-05-17T19:24:36.913877Z",
          "shell.execute_reply.started": "2023-05-17T19:24:36.890158Z",
          "shell.execute_reply": "2023-05-17T19:24:36.912891Z"
        },
        "trusted": true,
        "id": "aqSqyXj7_iqd"
      },
      "execution_count": null,
      "outputs": []
    },
    {
      "cell_type": "markdown",
      "source": [
        "Selected five existing features to recommend movies. It may vary from one project to another. Like one can add vote counts, budget, language, etc."
      ],
      "metadata": {
        "id": "7BNYF3EA_iqd"
      }
    },
    {
      "cell_type": "code",
      "source": [
        "df_features.shape"
      ],
      "metadata": {
        "execution": {
          "iopub.status.busy": "2023-05-17T19:24:36.915366Z",
          "iopub.execute_input": "2023-05-17T19:24:36.915756Z",
          "iopub.status.idle": "2023-05-17T19:24:36.928685Z",
          "shell.execute_reply.started": "2023-05-17T19:24:36.915721Z",
          "shell.execute_reply": "2023-05-17T19:24:36.926687Z"
        },
        "trusted": true,
        "id": "xgAzkTE6_iqe"
      },
      "execution_count": null,
      "outputs": []
    },
    {
      "cell_type": "code",
      "source": [
        "df_features"
      ],
      "metadata": {
        "execution": {
          "iopub.status.busy": "2023-05-17T19:24:36.931198Z",
          "iopub.execute_input": "2023-05-17T19:24:36.932303Z",
          "iopub.status.idle": "2023-05-17T19:24:36.960993Z",
          "shell.execute_reply.started": "2023-05-17T19:24:36.932188Z",
          "shell.execute_reply": "2023-05-17T19:24:36.959208Z"
        },
        "trusted": true,
        "id": "AaHdpNlm_iqe"
      },
      "execution_count": null,
      "outputs": []
    },
    {
      "cell_type": "code",
      "source": [
        "x=df_features['Movie_Genre'] + ' ' + df_features['Movie_Keywords'] + ' ' + df_features['Movie_Tagline'] + ' ' + df_features['Movie_Cast'] + ' ' + df_features['Movie_Director']"
      ],
      "metadata": {
        "execution": {
          "iopub.status.busy": "2023-05-17T19:24:36.962935Z",
          "iopub.execute_input": "2023-05-17T19:24:36.963802Z",
          "iopub.status.idle": "2023-05-17T19:24:36.992504Z",
          "shell.execute_reply.started": "2023-05-17T19:24:36.963427Z",
          "shell.execute_reply": "2023-05-17T19:24:36.991052Z"
        },
        "trusted": true,
        "id": "r35adI5q_iqf"
      },
      "execution_count": null,
      "outputs": []
    },
    {
      "cell_type": "code",
      "source": [
        "x"
      ],
      "metadata": {
        "execution": {
          "iopub.status.busy": "2023-05-17T19:24:36.994863Z",
          "iopub.execute_input": "2023-05-17T19:24:36.995351Z",
          "iopub.status.idle": "2023-05-17T19:24:37.00846Z",
          "shell.execute_reply.started": "2023-05-17T19:24:36.995306Z",
          "shell.execute_reply": "2023-05-17T19:24:37.006081Z"
        },
        "trusted": true,
        "id": "75sUR2lR_iqf"
      },
      "execution_count": null,
      "outputs": []
    },
    {
      "cell_type": "code",
      "source": [
        "x.shape"
      ],
      "metadata": {
        "execution": {
          "iopub.status.busy": "2023-05-17T19:24:37.014882Z",
          "iopub.execute_input": "2023-05-17T19:24:37.015399Z",
          "iopub.status.idle": "2023-05-17T19:24:37.024397Z",
          "shell.execute_reply.started": "2023-05-17T19:24:37.015347Z",
          "shell.execute_reply": "2023-05-17T19:24:37.022971Z"
        },
        "trusted": true,
        "id": "pN3VTJ9A_iqf"
      },
      "execution_count": null,
      "outputs": []
    },
    {
      "cell_type": "markdown",
      "source": [
        "# **Get Feature Text Conversions to Tokens**"
      ],
      "metadata": {
        "id": "BQd7T0_Y_iqg"
      }
    },
    {
      "cell_type": "code",
      "source": [
        "!pip install numpy==1.21.2"
      ],
      "metadata": {
        "execution": {
          "iopub.status.busy": "2023-05-17T19:24:37.025503Z",
          "iopub.execute_input": "2023-05-17T19:24:37.025888Z",
          "iopub.status.idle": "2023-05-17T19:24:51.046383Z",
          "shell.execute_reply.started": "2023-05-17T19:24:37.025848Z",
          "shell.execute_reply": "2023-05-17T19:24:51.044533Z"
        },
        "trusted": true,
        "id": "pFQReESs_iqg"
      },
      "execution_count": null,
      "outputs": []
    },
    {
      "cell_type": "code",
      "source": [
        "from sklearn.feature_extraction.text import TfidfVectorizer"
      ],
      "metadata": {
        "execution": {
          "iopub.status.busy": "2023-05-17T19:24:51.048556Z",
          "iopub.execute_input": "2023-05-17T19:24:51.049Z",
          "iopub.status.idle": "2023-05-17T19:24:51.056258Z",
          "shell.execute_reply.started": "2023-05-17T19:24:51.048959Z",
          "shell.execute_reply": "2023-05-17T19:24:51.054488Z"
        },
        "trusted": true,
        "id": "bFh-kads_iqg"
      },
      "execution_count": null,
      "outputs": []
    },
    {
      "cell_type": "code",
      "source": [
        "tfidf = TfidfVectorizer()"
      ],
      "metadata": {
        "execution": {
          "iopub.status.busy": "2023-05-17T19:24:51.058255Z",
          "iopub.execute_input": "2023-05-17T19:24:51.058763Z",
          "iopub.status.idle": "2023-05-17T19:24:51.080842Z",
          "shell.execute_reply.started": "2023-05-17T19:24:51.058716Z",
          "shell.execute_reply": "2023-05-17T19:24:51.079201Z"
        },
        "trusted": true,
        "id": "NuWpeYZk_iqh"
      },
      "execution_count": null,
      "outputs": []
    },
    {
      "cell_type": "code",
      "source": [
        "X = tfidf.fit_transform(x)"
      ],
      "metadata": {
        "execution": {
          "iopub.status.busy": "2023-05-17T19:24:51.082806Z",
          "iopub.execute_input": "2023-05-17T19:24:51.083273Z",
          "iopub.status.idle": "2023-05-17T19:24:51.368054Z",
          "shell.execute_reply.started": "2023-05-17T19:24:51.083236Z",
          "shell.execute_reply": "2023-05-17T19:24:51.36647Z"
        },
        "trusted": true,
        "id": "h_fE5jO__iqh"
      },
      "execution_count": null,
      "outputs": []
    },
    {
      "cell_type": "code",
      "source": [
        "X.shape"
      ],
      "metadata": {
        "execution": {
          "iopub.status.busy": "2023-05-17T19:24:51.369665Z",
          "iopub.execute_input": "2023-05-17T19:24:51.370142Z",
          "iopub.status.idle": "2023-05-17T19:24:51.382676Z",
          "shell.execute_reply.started": "2023-05-17T19:24:51.370087Z",
          "shell.execute_reply": "2023-05-17T19:24:51.381627Z"
        },
        "trusted": true,
        "id": "OiRndBj1_iqi"
      },
      "execution_count": null,
      "outputs": []
    },
    {
      "cell_type": "code",
      "source": [
        "print(X)"
      ],
      "metadata": {
        "execution": {
          "iopub.status.busy": "2023-05-17T19:24:51.385158Z",
          "iopub.execute_input": "2023-05-17T19:24:51.385533Z",
          "iopub.status.idle": "2023-05-17T19:24:51.393589Z",
          "shell.execute_reply.started": "2023-05-17T19:24:51.385483Z",
          "shell.execute_reply": "2023-05-17T19:24:51.392528Z"
        },
        "trusted": true,
        "id": "dDYCLU_a_iqi"
      },
      "execution_count": null,
      "outputs": []
    },
    {
      "cell_type": "markdown",
      "source": [
        "# **Get Similarity Score using Cosine Similarity**"
      ],
      "metadata": {
        "id": "spqv5eOF_iqi"
      }
    },
    {
      "cell_type": "markdown",
      "source": [
        "cosine_similarity computes the L2-normalized dot product of vectors. Euclidean(L2) normalization projects the vectors onto the unit sphere, and their dot product is then the cosine the angle between the points denoted by the vectors."
      ],
      "metadata": {
        "id": "ePgCpCPc_iqj"
      }
    },
    {
      "cell_type": "code",
      "source": [
        "from sklearn.metrics.pairwise import cosine_similarity"
      ],
      "metadata": {
        "execution": {
          "iopub.status.busy": "2023-05-17T19:24:51.395398Z",
          "iopub.execute_input": "2023-05-17T19:24:51.395786Z",
          "iopub.status.idle": "2023-05-17T19:24:51.405142Z",
          "shell.execute_reply.started": "2023-05-17T19:24:51.395753Z",
          "shell.execute_reply": "2023-05-17T19:24:51.403746Z"
        },
        "trusted": true,
        "id": "0fC3Fed8_iqj"
      },
      "execution_count": null,
      "outputs": []
    },
    {
      "cell_type": "code",
      "source": [
        "Similarity_Score = cosine_similarity(X)"
      ],
      "metadata": {
        "execution": {
          "iopub.status.busy": "2023-05-17T19:24:51.407286Z",
          "iopub.execute_input": "2023-05-17T19:24:51.407753Z",
          "iopub.status.idle": "2023-05-17T19:24:52.377729Z",
          "shell.execute_reply.started": "2023-05-17T19:24:51.407693Z",
          "shell.execute_reply": "2023-05-17T19:24:52.37635Z"
        },
        "trusted": true,
        "id": "iHXwpFIq_iqj"
      },
      "execution_count": null,
      "outputs": []
    },
    {
      "cell_type": "code",
      "source": [
        "Similarity_Score"
      ],
      "metadata": {
        "execution": {
          "iopub.status.busy": "2023-05-17T19:24:52.379108Z",
          "iopub.execute_input": "2023-05-17T19:24:52.37951Z",
          "iopub.status.idle": "2023-05-17T19:24:52.388497Z",
          "shell.execute_reply.started": "2023-05-17T19:24:52.379467Z",
          "shell.execute_reply": "2023-05-17T19:24:52.38717Z"
        },
        "trusted": true,
        "id": "2drRXlHK_iqk"
      },
      "execution_count": null,
      "outputs": []
    },
    {
      "cell_type": "code",
      "source": [
        "Similarity_Score.shape"
      ],
      "metadata": {
        "execution": {
          "iopub.status.busy": "2023-05-17T19:24:52.390301Z",
          "iopub.execute_input": "2023-05-17T19:24:52.390761Z",
          "iopub.status.idle": "2023-05-17T19:24:52.401792Z",
          "shell.execute_reply.started": "2023-05-17T19:24:52.390726Z",
          "shell.execute_reply": "2023-05-17T19:24:52.400453Z"
        },
        "trusted": true,
        "id": "taMmh7nj_iqk"
      },
      "execution_count": null,
      "outputs": []
    },
    {
      "cell_type": "markdown",
      "source": [
        "# **Get Movie Name as Input from User and Validate for Closest Spelling**"
      ],
      "metadata": {
        "id": "YoBSmDQN_iqk"
      }
    },
    {
      "cell_type": "code",
      "source": [
        "Favorite_Movie_Name = input(' Enter your favorite movie name : ')"
      ],
      "metadata": {
        "execution": {
          "iopub.status.busy": "2023-05-17T19:24:52.403528Z",
          "iopub.execute_input": "2023-05-17T19:24:52.403972Z",
          "iopub.status.idle": "2023-05-17T19:25:01.980425Z",
          "shell.execute_reply.started": "2023-05-17T19:24:52.403938Z",
          "shell.execute_reply": "2023-05-17T19:25:01.978698Z"
        },
        "trusted": true,
        "id": "bi5FArVx_iql"
      },
      "execution_count": null,
      "outputs": []
    },
    {
      "cell_type": "code",
      "source": [
        "All_Movies_Title_List = df['Movie_Title'].tolist()"
      ],
      "metadata": {
        "execution": {
          "iopub.status.busy": "2023-05-17T19:25:01.982483Z",
          "iopub.execute_input": "2023-05-17T19:25:01.983152Z",
          "iopub.status.idle": "2023-05-17T19:25:01.992027Z",
          "shell.execute_reply.started": "2023-05-17T19:25:01.983084Z",
          "shell.execute_reply": "2023-05-17T19:25:01.989703Z"
        },
        "trusted": true,
        "id": "V2lQVcAm_iql"
      },
      "execution_count": null,
      "outputs": []
    },
    {
      "cell_type": "code",
      "source": [
        "import difflib"
      ],
      "metadata": {
        "execution": {
          "iopub.status.busy": "2023-05-17T19:25:01.99391Z",
          "iopub.execute_input": "2023-05-17T19:25:01.995346Z",
          "iopub.status.idle": "2023-05-17T19:25:02.010941Z",
          "shell.execute_reply.started": "2023-05-17T19:25:01.995253Z",
          "shell.execute_reply": "2023-05-17T19:25:02.009299Z"
        },
        "trusted": true,
        "id": "3PR0Hxtp_iqm"
      },
      "execution_count": null,
      "outputs": []
    },
    {
      "cell_type": "code",
      "source": [
        "Movie_Recommendation = difflib.get_close_matches(Favorite_Movie_Name, All_Movies_Title_List)\n",
        "print(Movie_Recommendation)"
      ],
      "metadata": {
        "execution": {
          "iopub.status.busy": "2023-05-17T19:25:02.012916Z",
          "iopub.execute_input": "2023-05-17T19:25:02.013451Z",
          "iopub.status.idle": "2023-05-17T19:25:02.052492Z",
          "shell.execute_reply.started": "2023-05-17T19:25:02.013403Z",
          "shell.execute_reply": "2023-05-17T19:25:02.051233Z"
        },
        "trusted": true,
        "id": "h4n-1OMs_iqm"
      },
      "execution_count": null,
      "outputs": []
    },
    {
      "cell_type": "code",
      "source": [
        "Close_Match = Movie_Recommendation[0]\n",
        "print(Close_Match)"
      ],
      "metadata": {
        "execution": {
          "iopub.status.busy": "2023-05-17T19:25:02.054147Z",
          "iopub.execute_input": "2023-05-17T19:25:02.054512Z",
          "iopub.status.idle": "2023-05-17T19:25:02.061724Z",
          "shell.execute_reply.started": "2023-05-17T19:25:02.054479Z",
          "shell.execute_reply": "2023-05-17T19:25:02.060518Z"
        },
        "trusted": true,
        "id": "Q7DB4wde_iqm"
      },
      "execution_count": null,
      "outputs": []
    },
    {
      "cell_type": "code",
      "source": [
        "Index_of_Close_Match_Movie = df[df.Movie_Title == Close_Match]['Movie_ID'].values[0]\n",
        "print(Index_of_Close_Match_Movie)"
      ],
      "metadata": {
        "execution": {
          "iopub.status.busy": "2023-05-17T19:25:02.063169Z",
          "iopub.execute_input": "2023-05-17T19:25:02.064261Z",
          "iopub.status.idle": "2023-05-17T19:25:02.081106Z",
          "shell.execute_reply.started": "2023-05-17T19:25:02.0642Z",
          "shell.execute_reply": "2023-05-17T19:25:02.07955Z"
        },
        "trusted": true,
        "id": "geX-6-wi_iqn"
      },
      "execution_count": null,
      "outputs": []
    },
    {
      "cell_type": "markdown",
      "source": [],
      "metadata": {
        "id": "602QjYQF_iq3"
      }
    },
    {
      "cell_type": "code",
      "source": [
        "# getting a list of similar movies\n",
        "Recommendation_Score = list(enumerate(Similarity_Score[Index_of_Close_Match_Movie]))\n",
        "print(Recommendation_Score)"
      ],
      "metadata": {
        "execution": {
          "iopub.status.busy": "2023-05-17T19:25:02.083677Z",
          "iopub.execute_input": "2023-05-17T19:25:02.084217Z"
        },
        "trusted": true,
        "id": "-D43MZPp_iq4"
      },
      "execution_count": null,
      "outputs": []
    },
    {
      "cell_type": "code",
      "source": [
        "len(Recommendation_Score)"
      ],
      "metadata": {
        "trusted": true,
        "id": "IE9ZMaXK_iq4"
      },
      "execution_count": null,
      "outputs": []
    },
    {
      "cell_type": "markdown",
      "source": [
        "# **Get All Movies Sort Based on Recommendation Score wrt Favourite Movie**"
      ],
      "metadata": {
        "id": "7fd98WPb_iq6"
      }
    },
    {
      "cell_type": "code",
      "source": [
        "# sorting the movies based on their similarity score\n",
        "\n",
        "Sorted_Similar_Movies = sorted(Recommendation_Score, key = lambda x:x[1], reverse = True)\n",
        "print(Sorted_Similar_Movies)"
      ],
      "metadata": {
        "trusted": true,
        "id": "tOv5mTDm_iq6"
      },
      "execution_count": null,
      "outputs": []
    },
    {
      "cell_type": "code",
      "source": [
        "# print the name of similar movies based on the index\n",
        "\n",
        "print('Top 30 Movies Suggested for you: \\n')\n",
        "\n",
        "i = 1\n",
        "\n",
        "for movie in Sorted_Similar_Movies:\n",
        "    index = movie[0]\n",
        "    title_from_index = df[df.index==index]['Movie_Title'].values[0]\n",
        "    if (i<31):\n",
        "        print(i, '.',title_from_index)\n",
        "        i+=1"
      ],
      "metadata": {
        "execution": {
          "iopub.status.idle": "2023-05-17T19:25:03.590615Z",
          "shell.execute_reply.started": "2023-05-17T19:25:02.163985Z",
          "shell.execute_reply": "2023-05-17T19:25:03.589238Z"
        },
        "trusted": true,
        "id": "-DaI211M_iq7"
      },
      "execution_count": null,
      "outputs": []
    },
    {
      "cell_type": "markdown",
      "source": [
        "# **Top 10 Movie Recommendation System**"
      ],
      "metadata": {
        "id": "XQSmaX7r_iq8"
      }
    },
    {
      "cell_type": "code",
      "source": [
        "Movie_Name = input('Enter your favorite movie name: ')\n",
        "\n",
        "list_of_all_titles = df['Movie_Title'].tolist()\n",
        "\n",
        "Find_Close_Match = difflib.get_close_matches(Movie_Name, list_of_all_titles)\n",
        "\n",
        "Close_Match = Find_Close_Match[0]\n",
        "\n",
        "Index_of_Movie = df[df.Movie_Title == Close_Match]['Movie_ID'].values[0]\n",
        "\n",
        "Recommendation_Score = list(enumerate(Similarity_Score[Index_of_Movie]))\n",
        "\n",
        "sorted_similar_movies = sorted(Recommendation_Score, key = lambda x:x[1], reverse = True)\n",
        "\n",
        "print('Top 10 Movies suggested for you : \\n')\n",
        "\n",
        "i = 1\n",
        "\n",
        "for movie in sorted_similar_movies:\n",
        "    index = movie[0]\n",
        "    title_from_index = df[df.Movie_ID==index]['Movie_Title'].values\n",
        "    if (i<11):\n",
        "        print(i,'.',title_from_index)\n",
        "        i+=1"
      ],
      "metadata": {
        "execution": {
          "iopub.status.busy": "2023-05-17T19:25:03.592758Z",
          "iopub.execute_input": "2023-05-17T19:25:03.593429Z",
          "iopub.status.idle": "2023-05-17T19:25:08.898363Z",
          "shell.execute_reply.started": "2023-05-17T19:25:03.593374Z",
          "shell.execute_reply": "2023-05-17T19:25:08.897024Z"
        },
        "trusted": true,
        "id": "_au4WPro_iq8"
      },
      "execution_count": null,
      "outputs": []
    },
    {
      "cell_type": "markdown",
      "source": [],
      "metadata": {
        "id": "HAGvZUor_iq9"
      }
    },
    {
      "cell_type": "code",
      "source": [],
      "metadata": {
        "id": "w9xAOLE5_iq9"
      },
      "execution_count": null,
      "outputs": []
    },
    {
      "cell_type": "code",
      "source": [],
      "metadata": {
        "id": "BagmWuej_iq9"
      },
      "execution_count": null,
      "outputs": []
    },
    {
      "cell_type": "code",
      "source": [],
      "metadata": {
        "id": "V4OEme5D_iq-"
      },
      "execution_count": null,
      "outputs": []
    },
    {
      "cell_type": "code",
      "source": [],
      "metadata": {
        "id": "jPJbKbP4_iq-"
      },
      "execution_count": null,
      "outputs": []
    }
  ]
}