{
  "metadata": {
    "kernelspec": {
      "language": "python",
      "display_name": "Python 3",
      "name": "python3"
    },
    "language_info": {
      "pygments_lexer": "ipython3",
      "nbconvert_exporter": "python",
      "version": "3.6.4",
      "file_extension": ".py",
      "codemirror_mode": {
        "name": "ipython",
        "version": 3
      },
      "name": "python",
      "mimetype": "text/x-python"
    },
    "colab": {
      "name": "Hand Written Digit Project",
      "provenance": []
    }
  },
  "nbformat_minor": 0,
  "nbformat": 4,
  "cells": [
    {
      "cell_type": "markdown",
      "source": [
        "# **Hand Written Digit Prediction-Classification Analysis**\n"
      ],
      "metadata": {
        "id": "Vy2SMfOTv6Ej"
      }
    },
    {
      "cell_type": "markdown",
      "source": [
        "The digits dataset consists of 8x8 pixel images pf digits.The images attribute of the dataset stores 8x8 arrays of grayscale values for each image.we will use these arrays to visualize the first 4 images.The target attritube of the dataset stores the digit each image represents"
      ],
      "metadata": {
        "id": "KbuYmdX0w_ss"
      }
    },
    {
      "cell_type": "markdown",
      "source": [
        "ybi foundation-github"
      ],
      "metadata": {
        "id": "q30YKMDE6ZFU"
      }
    },
    {
      "cell_type": "markdown",
      "source": [
        "# **Import Library**"
      ],
      "metadata": {
        "id": "Q8K4pOQP_NcM"
      }
    },
    {
      "cell_type": "code",
      "source": [
        "import pandas as pd"
      ],
      "metadata": {
        "id": "t1eFOFTO-8Z0",
        "execution": {
          "iopub.status.busy": "2023-08-04T16:11:19.453303Z",
          "iopub.execute_input": "2023-08-04T16:11:19.453842Z",
          "iopub.status.idle": "2023-08-04T16:11:19.492601Z",
          "shell.execute_reply.started": "2023-08-04T16:11:19.453801Z",
          "shell.execute_reply": "2023-08-04T16:11:19.491572Z"
        },
        "trusted": true
      },
      "execution_count": null,
      "outputs": []
    },
    {
      "cell_type": "code",
      "source": [
        "import numpy as np"
      ],
      "metadata": {
        "id": "JyR99cCf_vhs",
        "execution": {
          "iopub.status.busy": "2023-08-04T16:11:19.494616Z",
          "iopub.execute_input": "2023-08-04T16:11:19.495432Z",
          "iopub.status.idle": "2023-08-04T16:11:19.501406Z",
          "shell.execute_reply.started": "2023-08-04T16:11:19.495387Z",
          "shell.execute_reply": "2023-08-04T16:11:19.500102Z"
        },
        "trusted": true
      },
      "execution_count": null,
      "outputs": []
    },
    {
      "cell_type": "code",
      "source": [
        "import matplotlib.pyplot as plt"
      ],
      "metadata": {
        "id": "c0E4zO99AuEc",
        "execution": {
          "iopub.status.busy": "2023-08-04T16:11:19.503608Z",
          "iopub.execute_input": "2023-08-04T16:11:19.504101Z",
          "iopub.status.idle": "2023-08-04T16:11:19.515431Z",
          "shell.execute_reply.started": "2023-08-04T16:11:19.504059Z",
          "shell.execute_reply": "2023-08-04T16:11:19.514109Z"
        },
        "trusted": true
      },
      "execution_count": null,
      "outputs": []
    },
    {
      "cell_type": "markdown",
      "source": [
        "# **Import Data**"
      ],
      "metadata": {
        "id": "bRukRNKoA4VL"
      }
    },
    {
      "cell_type": "code",
      "source": [
        "from sklearn.datasets import load_digits"
      ],
      "metadata": {
        "id": "qVGZMA-gA9wS",
        "execution": {
          "iopub.status.busy": "2023-08-04T16:15:19.512659Z",
          "iopub.execute_input": "2023-08-04T16:15:19.513193Z",
          "iopub.status.idle": "2023-08-04T16:15:19.519926Z",
          "shell.execute_reply.started": "2023-08-04T16:15:19.513154Z",
          "shell.execute_reply": "2023-08-04T16:15:19.518206Z"
        },
        "trusted": true
      },
      "execution_count": null,
      "outputs": []
    },
    {
      "cell_type": "markdown",
      "source": [
        "# **Describe Data**"
      ],
      "metadata": {
        "id": "FsQ-nMO6Be9X"
      }
    },
    {
      "cell_type": "code",
      "source": [
        "df = load_digits()"
      ],
      "metadata": {
        "id": "5TFthIsbEQlj",
        "execution": {
          "iopub.status.busy": "2023-08-04T16:11:20.318381Z",
          "iopub.execute_input": "2023-08-04T16:11:20.318876Z",
          "iopub.status.idle": "2023-08-04T16:11:20.349752Z",
          "shell.execute_reply.started": "2023-08-04T16:11:20.31884Z",
          "shell.execute_reply": "2023-08-04T16:11:20.348491Z"
        },
        "trusted": true
      },
      "execution_count": null,
      "outputs": []
    },
    {
      "cell_type": "markdown",
      "source": [
        "# **Data Visualization**"
      ],
      "metadata": {
        "id": "Iwdky6kTDw_y"
      }
    },
    {
      "cell_type": "code",
      "source": [
        "_, axes = plt.subplots(nrows = 1, ncols = 4, figsize = (10, 3))\n",
        "for ax, image, label in zip(axes, df.images, df.target):\n",
        "    ax.set_axis_off()\n",
        "    ax.imshow(image, cmap=plt.cm.gray_r, interpolation = 'nearest')\n",
        "    ax.set_title('Training: %i' % label)"
      ],
      "metadata": {
        "id": "dOGpR-sIElEO",
        "execution": {
          "iopub.status.busy": "2023-08-04T16:11:20.351137Z",
          "iopub.execute_input": "2023-08-04T16:11:20.351486Z",
          "iopub.status.idle": "2023-08-04T16:11:20.856031Z",
          "shell.execute_reply.started": "2023-08-04T16:11:20.351447Z",
          "shell.execute_reply": "2023-08-04T16:11:20.854778Z"
        },
        "trusted": true
      },
      "execution_count": null,
      "outputs": []
    },
    {
      "cell_type": "markdown",
      "source": [
        "# **Data Preprocessing**"
      ],
      "metadata": {
        "id": "38dBDVRlExIb"
      }
    },
    {
      "cell_type": "markdown",
      "source": [
        "### **Flatten Image**\n"
      ],
      "metadata": {
        "id": "sy2pPl1LE6R2"
      }
    },
    {
      "cell_type": "code",
      "source": [
        "df.images.shape"
      ],
      "metadata": {
        "id": "yBg9o1ybFNHs",
        "execution": {
          "iopub.status.busy": "2023-08-04T16:11:20.857643Z",
          "iopub.execute_input": "2023-08-04T16:11:20.858091Z",
          "iopub.status.idle": "2023-08-04T16:11:20.865046Z",
          "shell.execute_reply.started": "2023-08-04T16:11:20.858053Z",
          "shell.execute_reply": "2023-08-04T16:11:20.864154Z"
        },
        "trusted": true
      },
      "execution_count": null,
      "outputs": []
    },
    {
      "cell_type": "code",
      "source": [
        "df.images[0]"
      ],
      "metadata": {
        "id": "pSUHQdxrFAPS",
        "execution": {
          "iopub.status.busy": "2023-08-04T16:11:20.866355Z",
          "iopub.execute_input": "2023-08-04T16:11:20.867605Z",
          "iopub.status.idle": "2023-08-04T16:11:20.883609Z",
          "shell.execute_reply.started": "2023-08-04T16:11:20.867568Z",
          "shell.execute_reply": "2023-08-04T16:11:20.881953Z"
        },
        "trusted": true
      },
      "execution_count": null,
      "outputs": []
    },
    {
      "cell_type": "code",
      "source": [
        "df.images[0].shape"
      ],
      "metadata": {
        "id": "AuEQaG75Gc61",
        "execution": {
          "iopub.status.busy": "2023-08-04T16:11:20.885528Z",
          "iopub.execute_input": "2023-08-04T16:11:20.885994Z",
          "iopub.status.idle": "2023-08-04T16:11:20.904583Z",
          "shell.execute_reply.started": "2023-08-04T16:11:20.885948Z",
          "shell.execute_reply": "2023-08-04T16:11:20.903181Z"
        },
        "trusted": true
      },
      "execution_count": null,
      "outputs": []
    },
    {
      "cell_type": "code",
      "source": [
        "n_samples = len(df.images)\n",
        "data = df.images.reshape((n_samples, -1))"
      ],
      "metadata": {
        "id": "Xxkj2BvSGxIw",
        "execution": {
          "iopub.status.busy": "2023-08-04T16:11:20.911989Z",
          "iopub.execute_input": "2023-08-04T16:11:20.91251Z",
          "iopub.status.idle": "2023-08-04T16:11:20.918945Z",
          "shell.execute_reply.started": "2023-08-04T16:11:20.912474Z",
          "shell.execute_reply": "2023-08-04T16:11:20.917673Z"
        },
        "trusted": true
      },
      "execution_count": null,
      "outputs": []
    },
    {
      "cell_type": "code",
      "source": [
        "data[0]\n"
      ],
      "metadata": {
        "id": "-mHCQed0G25h",
        "execution": {
          "iopub.status.busy": "2023-08-04T16:11:20.923324Z",
          "iopub.execute_input": "2023-08-04T16:11:20.923715Z",
          "iopub.status.idle": "2023-08-04T16:11:20.937453Z",
          "shell.execute_reply.started": "2023-08-04T16:11:20.923681Z",
          "shell.execute_reply": "2023-08-04T16:11:20.936097Z"
        },
        "trusted": true
      },
      "execution_count": null,
      "outputs": []
    },
    {
      "cell_type": "code",
      "source": [
        "data[0].shape"
      ],
      "metadata": {
        "id": "I3zIngciG_1z",
        "execution": {
          "iopub.status.busy": "2023-08-04T16:11:20.938847Z",
          "iopub.execute_input": "2023-08-04T16:11:20.939948Z",
          "iopub.status.idle": "2023-08-04T16:11:20.953122Z",
          "shell.execute_reply.started": "2023-08-04T16:11:20.939913Z",
          "shell.execute_reply": "2023-08-04T16:11:20.951825Z"
        },
        "trusted": true
      },
      "execution_count": null,
      "outputs": []
    },
    {
      "cell_type": "code",
      "source": [
        "data.shape"
      ],
      "metadata": {
        "id": "YNhI-51mHGOH",
        "execution": {
          "iopub.status.busy": "2023-08-04T16:11:20.954748Z",
          "iopub.execute_input": "2023-08-04T16:11:20.955442Z",
          "iopub.status.idle": "2023-08-04T16:11:20.971603Z",
          "shell.execute_reply.started": "2023-08-04T16:11:20.955409Z",
          "shell.execute_reply": "2023-08-04T16:11:20.970353Z"
        },
        "trusted": true
      },
      "execution_count": null,
      "outputs": []
    },
    {
      "cell_type": "markdown",
      "source": [
        "# **Scaling Data**"
      ],
      "metadata": {
        "id": "qlN46w3kIQCW"
      }
    },
    {
      "cell_type": "code",
      "source": [
        "data.min()"
      ],
      "metadata": {
        "id": "IXon6NZrJT1W",
        "execution": {
          "iopub.status.busy": "2023-08-04T16:11:20.973439Z",
          "iopub.execute_input": "2023-08-04T16:11:20.973895Z",
          "iopub.status.idle": "2023-08-04T16:11:20.98813Z",
          "shell.execute_reply.started": "2023-08-04T16:11:20.973845Z",
          "shell.execute_reply": "2023-08-04T16:11:20.98656Z"
        },
        "trusted": true
      },
      "execution_count": null,
      "outputs": []
    },
    {
      "cell_type": "code",
      "source": [
        "data.max()"
      ],
      "metadata": {
        "id": "pWKkuqQyJhWS",
        "execution": {
          "iopub.status.busy": "2023-08-04T16:11:20.989727Z",
          "iopub.execute_input": "2023-08-04T16:11:20.990165Z",
          "iopub.status.idle": "2023-08-04T16:11:21.004042Z",
          "shell.execute_reply.started": "2023-08-04T16:11:20.990131Z",
          "shell.execute_reply": "2023-08-04T16:11:21.002514Z"
        },
        "trusted": true
      },
      "execution_count": null,
      "outputs": []
    },
    {
      "cell_type": "code",
      "source": [
        "data = data/16"
      ],
      "metadata": {
        "id": "yEvCCvaEJnPl",
        "execution": {
          "iopub.status.busy": "2023-08-04T16:11:21.00612Z",
          "iopub.execute_input": "2023-08-04T16:11:21.00677Z",
          "iopub.status.idle": "2023-08-04T16:11:21.021083Z",
          "shell.execute_reply.started": "2023-08-04T16:11:21.006717Z",
          "shell.execute_reply": "2023-08-04T16:11:21.019904Z"
        },
        "trusted": true
      },
      "execution_count": null,
      "outputs": []
    },
    {
      "cell_type": "code",
      "source": [
        "data.min()"
      ],
      "metadata": {
        "id": "_SSOMBxxJv94",
        "execution": {
          "iopub.status.busy": "2023-08-04T16:11:21.0228Z",
          "iopub.execute_input": "2023-08-04T16:11:21.023189Z",
          "iopub.status.idle": "2023-08-04T16:11:21.035446Z",
          "shell.execute_reply.started": "2023-08-04T16:11:21.023155Z",
          "shell.execute_reply": "2023-08-04T16:11:21.034181Z"
        },
        "trusted": true
      },
      "execution_count": null,
      "outputs": []
    },
    {
      "cell_type": "code",
      "source": [
        "data.max()"
      ],
      "metadata": {
        "id": "mGcF8vtLJ2BY",
        "execution": {
          "iopub.status.busy": "2023-08-04T16:11:21.037235Z",
          "iopub.execute_input": "2023-08-04T16:11:21.037701Z",
          "iopub.status.idle": "2023-08-04T16:11:21.049759Z",
          "shell.execute_reply.started": "2023-08-04T16:11:21.037644Z",
          "shell.execute_reply": "2023-08-04T16:11:21.048304Z"
        },
        "trusted": true
      },
      "execution_count": null,
      "outputs": []
    },
    {
      "cell_type": "code",
      "source": [
        "data[0]"
      ],
      "metadata": {
        "id": "X6fVwqBQJ6vp",
        "execution": {
          "iopub.status.busy": "2023-08-04T16:11:21.051529Z",
          "iopub.execute_input": "2023-08-04T16:11:21.052083Z",
          "iopub.status.idle": "2023-08-04T16:11:21.066284Z",
          "shell.execute_reply.started": "2023-08-04T16:11:21.05204Z",
          "shell.execute_reply": "2023-08-04T16:11:21.064426Z"
        },
        "trusted": true
      },
      "execution_count": null,
      "outputs": []
    },
    {
      "cell_type": "markdown",
      "source": [
        "# **Train test split Data**"
      ],
      "metadata": {
        "id": "_d9reeJwKHXR"
      }
    },
    {
      "cell_type": "code",
      "source": [
        "from sklearn.model_selection import train_test_split"
      ],
      "metadata": {
        "id": "FWmf0Te-KMcf",
        "execution": {
          "iopub.status.busy": "2023-08-04T16:11:21.068327Z",
          "iopub.execute_input": "2023-08-04T16:11:21.068868Z",
          "iopub.status.idle": "2023-08-04T16:11:21.189465Z",
          "shell.execute_reply.started": "2023-08-04T16:11:21.068811Z",
          "shell.execute_reply": "2023-08-04T16:11:21.188113Z"
        },
        "trusted": true
      },
      "execution_count": null,
      "outputs": []
    },
    {
      "cell_type": "code",
      "source": [
        "xtrain, xtest, ytrain, ytest = train_test_split(data, df.target, test_size = 0.3)"
      ],
      "metadata": {
        "id": "DkYgWMVWKUTF",
        "execution": {
          "iopub.status.busy": "2023-08-04T16:11:21.191892Z",
          "iopub.execute_input": "2023-08-04T16:11:21.193211Z",
          "iopub.status.idle": "2023-08-04T16:11:21.200406Z",
          "shell.execute_reply.started": "2023-08-04T16:11:21.193145Z",
          "shell.execute_reply": "2023-08-04T16:11:21.199121Z"
        },
        "trusted": true
      },
      "execution_count": null,
      "outputs": []
    },
    {
      "cell_type": "code",
      "source": [
        "xtrain.shape, xtest.shape, ytrain.shape, ytest.shape"
      ],
      "metadata": {
        "id": "YVTrdv1HKYm2",
        "execution": {
          "iopub.status.busy": "2023-08-04T16:11:21.201894Z",
          "iopub.execute_input": "2023-08-04T16:11:21.202294Z",
          "iopub.status.idle": "2023-08-04T16:11:21.216248Z",
          "shell.execute_reply.started": "2023-08-04T16:11:21.202262Z",
          "shell.execute_reply": "2023-08-04T16:11:21.214981Z"
        },
        "trusted": true
      },
      "execution_count": null,
      "outputs": []
    },
    {
      "cell_type": "markdown",
      "source": [
        "# **Modeling**"
      ],
      "metadata": {
        "id": "TjfzCy1hLHgE"
      }
    },
    {
      "cell_type": "markdown",
      "source": [
        "### **Random Forest model**"
      ],
      "metadata": {
        "id": "8WAIp_RNLa5F"
      }
    },
    {
      "cell_type": "code",
      "source": [
        "from sklearn.ensemble import RandomForestClassifier"
      ],
      "metadata": {
        "id": "XoB29gGkLL7W",
        "execution": {
          "iopub.status.busy": "2023-08-04T16:11:21.217884Z",
          "iopub.execute_input": "2023-08-04T16:11:21.21837Z",
          "iopub.status.idle": "2023-08-04T16:11:21.669467Z",
          "shell.execute_reply.started": "2023-08-04T16:11:21.218329Z",
          "shell.execute_reply": "2023-08-04T16:11:21.667762Z"
        },
        "trusted": true
      },
      "execution_count": null,
      "outputs": []
    },
    {
      "cell_type": "code",
      "source": [
        "rf = RandomForestClassifier()"
      ],
      "metadata": {
        "id": "139leh2qLmDR",
        "execution": {
          "iopub.status.busy": "2023-08-04T16:11:21.674582Z",
          "iopub.execute_input": "2023-08-04T16:11:21.675046Z",
          "iopub.status.idle": "2023-08-04T16:11:21.680315Z",
          "shell.execute_reply.started": "2023-08-04T16:11:21.674989Z",
          "shell.execute_reply": "2023-08-04T16:11:21.679075Z"
        },
        "trusted": true
      },
      "execution_count": null,
      "outputs": []
    },
    {
      "cell_type": "markdown",
      "source": [
        "### **Train or Fit Model**"
      ],
      "metadata": {
        "id": "Wg0qQXPIMbDL"
      }
    },
    {
      "cell_type": "code",
      "source": [
        "rf.fit(xtrain, ytrain)"
      ],
      "metadata": {
        "id": "vp-2DHLVLs4T",
        "execution": {
          "iopub.status.busy": "2023-08-04T16:11:21.68208Z",
          "iopub.execute_input": "2023-08-04T16:11:21.68258Z",
          "iopub.status.idle": "2023-08-04T16:11:22.179828Z",
          "shell.execute_reply.started": "2023-08-04T16:11:21.682535Z",
          "shell.execute_reply": "2023-08-04T16:11:22.178352Z"
        },
        "trusted": true
      },
      "execution_count": null,
      "outputs": []
    },
    {
      "cell_type": "markdown",
      "source": [
        "# **Prediction**"
      ],
      "metadata": {
        "id": "9SOPoN9TNYFb"
      }
    },
    {
      "cell_type": "markdown",
      "source": [
        "### **Predict Test Data**"
      ],
      "metadata": {
        "id": "VG9p5F21PAvH"
      }
    },
    {
      "cell_type": "code",
      "source": [
        "y_pred = rf.predict(xtest)"
      ],
      "metadata": {
        "id": "OExW8lApNl9i",
        "execution": {
          "iopub.status.busy": "2023-08-04T16:11:22.181648Z",
          "iopub.execute_input": "2023-08-04T16:11:22.182117Z",
          "iopub.status.idle": "2023-08-04T16:11:22.216044Z",
          "shell.execute_reply.started": "2023-08-04T16:11:22.182078Z",
          "shell.execute_reply": "2023-08-04T16:11:22.214658Z"
        },
        "trusted": true
      },
      "execution_count": null,
      "outputs": []
    },
    {
      "cell_type": "code",
      "source": [
        "y_pred"
      ],
      "metadata": {
        "id": "rnb_fNpENqrv",
        "execution": {
          "iopub.status.busy": "2023-08-04T16:11:22.21792Z",
          "iopub.execute_input": "2023-08-04T16:11:22.218454Z",
          "iopub.status.idle": "2023-08-04T16:11:22.228592Z",
          "shell.execute_reply.started": "2023-08-04T16:11:22.218415Z",
          "shell.execute_reply": "2023-08-04T16:11:22.227113Z"
        },
        "trusted": true
      },
      "execution_count": null,
      "outputs": []
    },
    {
      "cell_type": "markdown",
      "source": [
        "#  **Model Evaluation**"
      ],
      "metadata": {
        "id": "Jvr4uUaWPxVZ"
      }
    },
    {
      "cell_type": "markdown",
      "source": [
        "### **Model Accuracy**"
      ],
      "metadata": {
        "id": "hPklvpbnN9Y6"
      }
    },
    {
      "cell_type": "code",
      "source": [
        "from sklearn.metrics import confusion_matrix, classification_report"
      ],
      "metadata": {
        "id": "nZpShDxnOLIa",
        "execution": {
          "iopub.status.busy": "2023-08-04T16:11:22.234307Z",
          "iopub.execute_input": "2023-08-04T16:11:22.234712Z",
          "iopub.status.idle": "2023-08-04T16:11:22.240636Z",
          "shell.execute_reply.started": "2023-08-04T16:11:22.23468Z",
          "shell.execute_reply": "2023-08-04T16:11:22.239283Z"
        },
        "trusted": true
      },
      "execution_count": null,
      "outputs": []
    },
    {
      "cell_type": "code",
      "source": [
        "confusion_matrix(ytest, y_pred)"
      ],
      "metadata": {
        "id": "ivPo0VnBOPHs",
        "execution": {
          "iopub.status.busy": "2023-08-04T16:11:22.24226Z",
          "iopub.execute_input": "2023-08-04T16:11:22.242592Z",
          "iopub.status.idle": "2023-08-04T16:11:22.260447Z",
          "shell.execute_reply.started": "2023-08-04T16:11:22.242562Z",
          "shell.execute_reply": "2023-08-04T16:11:22.258432Z"
        },
        "trusted": true
      },
      "execution_count": null,
      "outputs": []
    },
    {
      "cell_type": "code",
      "source": [
        "print(classification_report(ytest, y_pred))"
      ],
      "metadata": {
        "id": "JTY4ExgcOXFU",
        "execution": {
          "iopub.status.busy": "2023-08-04T16:11:22.262314Z",
          "iopub.execute_input": "2023-08-04T16:11:22.263423Z",
          "iopub.status.idle": "2023-08-04T16:11:22.284255Z",
          "shell.execute_reply.started": "2023-08-04T16:11:22.263385Z",
          "shell.execute_reply": "2023-08-04T16:11:22.282749Z"
        },
        "trusted": true
      },
      "execution_count": null,
      "outputs": []
    },
    {
      "cell_type": "markdown",
      "source": [
        "# **Explaination**"
      ],
      "metadata": {
        "id": "s717aEzkSeJO"
      }
    },
    {
      "cell_type": "markdown",
      "source": [
        "Handwritten Digit Prediction, or Digit Classification, is like training a computer to read and understand handwritten numbers, similar to how we recognize them ourselves. Imagine you have a bunch of pictures, each showing a handwritten digit from 0 to 9. The goal is to teach the computer how to look at these pictures and figure out which digit is in each one. We split our pictures into two groups: one set to teach the computer (training set) and another to test its skills (testing set). We choose a smart method, like a special problem-solving recipe, for the computer to learn the patterns and differences in the pictures. As it learns, we guide it by telling whether its guesses are right or wrong. Once it masters this skill, we give it new pictures it hasn't seen during training, and it tries its best to guess the correct digit. We check its guesses to see how well it's doing, using simple checks to see if it's getting the numbers correct. This project helps us build a computer that can recognize handwritten digits, which has practical uses like reading postal codes or helping computers understand our handwriting. It's like teaching the computer to read your handwriting."
      ],
      "metadata": {
        "id": "JB39fRcBQY3C"
      }
    }
  ]
}